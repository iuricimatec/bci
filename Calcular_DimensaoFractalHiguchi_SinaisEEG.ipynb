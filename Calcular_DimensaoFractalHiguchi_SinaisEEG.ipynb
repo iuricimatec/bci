{
  "nbformat": 4,
  "nbformat_minor": 0,
  "metadata": {
    "colab": {
      "provenance": [],
      "authorship_tag": "ABX9TyOf8XfCqvCXcAS1tfsWwa8p",
      "include_colab_link": true
    },
    "kernelspec": {
      "name": "python3",
      "display_name": "Python 3"
    },
    "language_info": {
      "name": "python"
    }
  },
  "cells": [
    {
      "cell_type": "markdown",
      "metadata": {
        "id": "view-in-github",
        "colab_type": "text"
      },
      "source": [
        "<a href=\"https://colab.research.google.com/github/iuricimatec/bci/blob/main/Calcular_DimensaoFractalHiguchi_SinaisEEG.ipynb\" target=\"_parent\"><img src=\"https://colab.research.google.com/assets/colab-badge.svg\" alt=\"Open In Colab\"/></a>"
      ]
    },
    {
      "cell_type": "markdown",
      "source": [
        "## **Sistemas Complexos**\n",
        "Os sistemas complexos são caracterizados por um conjunto de propriedades-chave que os tornam diferentes dos sistemas simples. Essas propriedades desempenham um papel crucial na compreensão do comportamento e da dinâmica de sistemas complexos. Algumas das principais propriedades dos sistemas complexos são:\n",
        "\n",
        "**Emergência:** sistemas complexos geralmente exibem comportamento emergente, o que significa que o comportamento coletivo do sistema surge das interações e relacionamentos entre seus componentes individuais. As propriedades emergentes não estão presentes nos componentes isolados e podem ser difíceis de prever com base apenas nas propriedades dos elementos individuais.\n",
        "\n",
        "**Não linearidade:** sistemas complexos geralmente envolvem relacionamentos não lineares entre os componentes do sistema. Pequenas mudanças em uma parte do sistema podem levar a efeitos significativos e imprevisíveis em outras partes, tornando o comportamento de todo o sistema não linear e difícil de entender por meio de relações simples de causa e efeito.\n",
        "\n",
        "**Auto-organização:** Os sistemas complexos têm a capacidade de se auto-organizar, o que significa que podem criar ou desenvolver estruturas e padrões espontaneamente sem qualquer orientação externa. Esses padrões podem surgir devido a interações locais entre os componentes do sistema e podem levar à formação de estruturas robustas e adaptativas.\n",
        "\n",
        "**Adaptação:** Sistemas complexos são adaptativos, o que significa que eles podem se ajustar e responder a mudanças em seu ambiente ou condições internas. Eles podem exibir resiliência e capacidade de se recuperar de distúrbios, reorganizando-se.\n",
        "\n",
        "**Loops de feedback:** sistemas complexos geralmente envolvem loops de feedback, onde a saída de um processo torna-se entrada para outro processo, levando a um comportamento iterativo e de auto-reforço. Os loops de feedback podem criar estabilidade e instabilidade em sistemas complexos.\n",
        "\n",
        "**Interconectividade:** Em sistemas complexos, os componentes estão interconectados e as interações entre eles podem ser diretas e indiretas. Essas conexões e dependências podem levar a efeitos em cascata e se espalhar por todo o sistema.\n",
        "\n",
        "**Robustez e Fragilidade:** Os sistemas complexos podem ser robustos, o que significa que podem suportar certas perturbações ou mudanças sem sofrer uma mudança dramática no comportamento. No entanto, eles também podem ser frágeis, pois alguns distúrbios ou mudanças podem causar o colapso do sistema ou passar por uma transição de fase.\n",
        "\n",
        "**Heterogeneidade:** sistemas complexos geralmente exibem heterogeneidade, onde os componentes podem ter diferentes propriedades, funções e interações com outros elementos do sistema. Essa diversidade contribui para a riqueza e complexidade do sistema geral.\n",
        "\n",
        "**Acoplamento e Desacoplamento:** Sistemas complexos podem exibir vários graus de acoplamento e desacoplamento entre diferentes componentes. O acoplamento refere-se à força das interações entre os elementos, enquanto o desacoplamento refere-se ao nível de independência entre os componentes.\n",
        "\n",
        "**Dependência de Caminho:** Sistemas complexos podem ser sensíveis a condições históricas e estados iniciais. A evolução do sistema pode depender de seus estados anteriores, levando a dependências históricas e dependência de caminho.\n",
        "\n",
        "\n",
        "\n",
        "Essas propriedades destacam as complexidades e os desafios de estudar e compreender sistemas complexos em vários domínios, como biologia, ecologia, sociologia, economia e o estudo do cérebro e da mente. Analisar e modelar sistemas complexos requer ferramentas e metodologias especializadas, geralmente baseadas na teoria de sistemas, teoria de redes e modelagem computacional.\n",
        "\n"
      ],
      "metadata": {
        "id": "zgEwGpJbwTOh"
      }
    },
    {
      "cell_type": "markdown",
      "source": [
        "### **Fractais**\n",
        "\n",
        "Fractals are complex geometric patterns that display self-similarity at different scales. They have found applications in various scientific and technological fields due to their unique properties. When considering their potential benefits or applicability to Brain-Computer Interfaces (BCIs), several interesting aspects come to light:\n",
        "\n",
        "Signal Analysis and Classification: Fractal analysis can be applied to BCI data, such as EEG signals, to characterize their complexity and self-similarity. This can aid in feature extraction and signal classification, potentially improving the accuracy of decoding brain activity for various applications, like motor imagery recognition or mental state analysis.\n",
        "\n",
        "Noise Reduction: Fractal algorithms can help identify and remove noise from BCI signals while preserving relevant information. The self-similar nature of fractals can assist in differentiating between noise artifacts and meaningful brain signals, enhancing the quality of the recorded data.\n",
        "\n",
        "Data Compression: Fractal-based compression techniques can be employed to reduce the size of BCI data for storage and transmission purposes. These techniques exploit the self-similarity within the data to encode it more efficiently, leading to reduced storage requirements and faster data transfer.\n",
        "\n",
        "Feature Extraction: Fractal dimensions or other fractal-based parameters can serve as unique features for BCI signal analysis. These features can capture the underlying complexity of brain signals, potentially enabling more accurate and informative feature sets for classification algorithms.\n",
        "\n",
        "Brain Connectivity Mapping: Fractal analysis can contribute to mapping brain connectivity by assessing the complexity of different brain regions' activity patterns. This can aid in understanding the brain's functional organization and potentially provide insights into neurological conditions.\n",
        "\n",
        "Neurofeedback and Training: Fractal patterns have been associated with certain cognitive states. Integrating fractal-based feedback into BCI systems could allow users to learn how to modulate their brain activity towards desired fractal patterns, potentially facilitating cognitive enhancement or therapeutic interventions.\n",
        "\n",
        "Personalized BCI Systems: Fractal analysis could help tailor BCI systems to individual users by characterizing their unique brain activity patterns. This could lead to more personalized and adaptive BCIs, improving user experience and performance.\n",
        "\n",
        "Brain-inspired Computing: Fractal-inspired computing architectures might find use in developing more efficient and powerful brain-inspired computational models. These models could simulate neural processing and aid in understanding brain function better, potentially leading to advancements in BCI technology.\n",
        "\n",
        "Art and Visualization: Fractal patterns are visually appealing and can be used for artistic and aesthetic visualizations of brain activity. This can engage users and researchers, making it easier to interpret and communicate complex brain data.\n",
        "\n",
        "It's important to note that while these potential benefits sound promising, the practical implementation and success of incorporating fractals into BCIs depend on various factors, including the specific application, the quality of the BCI data, the computational resources available, and the development of appropriate algorithms and methodologies. Further research and experimentation are needed to fully understand the extent of fractals' applicability to BCIs and their potential impact on improving BCI technology.\n",
        "\n",
        "Uma dimensão fractal do sinal EEG é uma linha reta simples com dimensão fractal de 1 (ocupando um espaço mínimo), e quanto mais complexo for o sinal EEG, mais ele preencherá o espaço e maior a dimensionalidade do fractal que o representa, podendo variar entre 1 e 2."
      ],
      "metadata": {
        "id": "AdUZS4I41160"
      }
    },
    {
      "cell_type": "markdown",
      "source": [
        "**What is the fractal dimension of an EEG?**\n",
        "\n",
        "A simple straight line will have a fractal dimension of 1 (taking up minimum space), while the more complex an EEG signal is, the more it will fill space and the more it will have a fractal dimension closer to 2 than 1.\n",
        "\n",
        "**What is the fractal pattern in the brain?** Fractal Foundation Online Course - Chapter 1 - FRACTALS IN NATURE\n",
        "\n",
        "It is the fractal branching pattern of the neuron's axons and dendrites that allows them to communicate with so many other cells. If neurons were shaped like cubes and neatly packed into the brain, one neuron could only connect with at most 6 other cells. Hippocampal neurons.\n",
        "\n",
        "Consenquently, would the more dimensions a fractal shape of a brain region or a neuron and dentrites have, there more will be their potential of connectivity of that area or its neurons and dentrites to communicate with other regions, neurons and dentrites?\n",
        "\n"
      ],
      "metadata": {
        "id": "iIJgqWdoO4XM"
      }
    },
    {
      "cell_type": "markdown",
      "source": [
        "**Sinais EEG**\n",
        "\n",
        "As a universal rule, complex systems have an continuous and infite oscilatory moviments, and its frequency is averagely 60hz.\n",
        "\n",
        "Thus, Simulating oscillations in an EEG (electroencephalogram) involves generating artificial electrical signals that mimic the patterns of brain activity typically observed in EEG recordings. EEG oscillations are rhythmic fluctuations in voltage that represent different brain states and cognitive processes. Here's a basic approach to simulate an oscillation in an EEG:\n",
        "\n",
        "1. Choose an Oscillation Frequency: EEG oscillations are categorized by their frequency bands, such as delta (0.5-4 Hz), theta (4-8 Hz), alpha (8-13 Hz), beta (13-30 Hz), and gamma (30-100 Hz). Select the frequency band you want to simulate.\n",
        "\n",
        "2. Generate Sinusoidal Waveform: The most common approach to simulate an EEG oscillation is to generate a sinusoidal waveform at the chosen frequency. The formula for a sinusoidal waveform is:\n",
        "\n",
        "V(t) = A * sin(2 * π * f * t + φ)\n",
        "\n",
        "\n",
        "Where:\n",
        "\n",
        "V(t) is the voltage at time t.\n",
        "A is the amplitude of the waveform (usually in microvolts).\n",
        "f is the frequency of the oscillation in Hz.\n",
        "t is the time in seconds.\n",
        "φ is the phase of the oscillation in radians (can be set to 0 for simplicity).\n",
        "3. Add Noise: Real EEG signals are often noisy due to various sources of interference. You can add noise to the simulated signal to make it more realistic. Gaussian noise is commonly used for this purpose.\n",
        "\n",
        "4. Simulate Multiple Channels: EEG recordings are typically obtained from multiple electrodes placed on the scalp. Simulate the oscillation for each channel separately and optionally introduce variations in amplitude, phase, and noise across channels to mimic real-world variability.\n",
        "\n",
        "5. Simulate Time: Generate the simulated EEG signal over a specific time duration that you're interested in.\n",
        "\n",
        "6. Visualize the Simulated EEG: Plot the simulated EEG signal to visualize the oscillation across time and channels. You can use tools like Python's Matplotlib or other plotting libraries.\n",
        "\n",
        "Here's a simplified example in Python code using NumPy for generating a sinusoidal oscillation in the alpha frequency range:\n",
        "\n",
        "This is a basic example, and real EEG signals are much more complex due to various factors like non-sinusoidal shapes, spatial distribution, and interactions between different frequency bands. For more accurate simulations, you might need to delve into more sophisticated models and techniques."
      ],
      "metadata": {
        "id": "jGJcKlee1LNN"
      }
    },
    {
      "cell_type": "code",
      "source": [
        "!pip install pyedflib"
      ],
      "metadata": {
        "colab": {
          "base_uri": "https://localhost:8080/"
        },
        "id": "Qov0FQcilvYz",
        "outputId": "203d7a88-95bd-477c-9151-c2615e893409"
      },
      "execution_count": 1,
      "outputs": [
        {
          "output_type": "stream",
          "name": "stdout",
          "text": [
            "Collecting pyedflib\n",
            "  Downloading pyEDFlib-0.1.34-cp310-cp310-manylinux_2_17_x86_64.manylinux2014_x86_64.whl (2.6 MB)\n",
            "\u001b[?25l     \u001b[90m━━━━━━━━━━━━━━━━━━━━━━━━━━━━━━━━━━━━━━━━\u001b[0m \u001b[32m0.0/2.6 MB\u001b[0m \u001b[31m?\u001b[0m eta \u001b[36m-:--:--\u001b[0m\r\u001b[2K     \u001b[91m━\u001b[0m\u001b[91m╸\u001b[0m\u001b[90m━━━━━━━━━━━━━━━━━━━━━━━━━━━━━━━━━━━━━━\u001b[0m \u001b[32m0.1/2.6 MB\u001b[0m \u001b[31m3.2 MB/s\u001b[0m eta \u001b[36m0:00:01\u001b[0m\r\u001b[2K     \u001b[91m━━━━━━━━━━━━━━━━━━━━━━━━━━━━━━━━━━\u001b[0m\u001b[91m╸\u001b[0m\u001b[90m━━━━━\u001b[0m \u001b[32m2.3/2.6 MB\u001b[0m \u001b[31m31.7 MB/s\u001b[0m eta \u001b[36m0:00:01\u001b[0m\r\u001b[2K     \u001b[90m━━━━━━━━━━━━━━━━━━━━━━━━━━━━━━━━━━━━━━━━\u001b[0m \u001b[32m2.6/2.6 MB\u001b[0m \u001b[31m28.7 MB/s\u001b[0m eta \u001b[36m0:00:00\u001b[0m\n",
            "\u001b[?25hRequirement already satisfied: numpy>=1.9.1 in /usr/local/lib/python3.10/dist-packages (from pyedflib) (1.23.5)\n",
            "Installing collected packages: pyedflib\n",
            "Successfully installed pyedflib-0.1.34\n"
          ]
        }
      ]
    },
    {
      "cell_type": "code",
      "execution_count": 2,
      "metadata": {
        "colab": {
          "base_uri": "https://localhost:8080/"
        },
        "id": "RFMXd0GI0YXD",
        "outputId": "9ebfdd30-2ac4-4826-fac8-3a894a108516"
      },
      "outputs": [
        {
          "output_type": "stream",
          "name": "stdout",
          "text": [
            "Mounted at gdrive\n"
          ]
        }
      ],
      "source": [
        "import scipy.io\n",
        "import numpy as np\n",
        "import matplotlib.pyplot as plt\n",
        "\n",
        "import pyedflib\n",
        "\n",
        "# Connect to GDrive\n",
        "from google.colab import drive\n",
        "drive.mount('gdrive')\n",
        "path = '/content/gdrive/MyDrive/CIMATEC/MCTI/TESE/dataset/'"
      ]
    },
    {
      "cell_type": "code",
      "source": [
        "m = scipy.io.loadmat('/content/gdrive/MyDrive/CIMATEC/MCTI/TESE/dataset/Dados.mat', struct_as_record=True)"
      ],
      "metadata": {
        "id": "p9GhOqE_0d2p"
      },
      "execution_count": 3,
      "outputs": []
    },
    {
      "cell_type": "code",
      "source": [
        "m.keys()"
      ],
      "metadata": {
        "colab": {
          "base_uri": "https://localhost:8080/"
        },
        "id": "bTk5cLL_8YyH",
        "outputId": "d4da335d-f223-40d5-c6d9-7ea6b323e06d"
      },
      "execution_count": 4,
      "outputs": [
        {
          "output_type": "execute_result",
          "data": {
            "text/plain": [
              "dict_keys(['__header__', '__version__', '__globals__', 'Dados'])"
            ]
          },
          "metadata": {},
          "execution_count": 4
        }
      ]
    },
    {
      "cell_type": "code",
      "source": [
        "m"
      ],
      "metadata": {
        "colab": {
          "base_uri": "https://localhost:8080/"
        },
        "id": "E6ZFSEUW1H1c",
        "outputId": "a3071f8d-2517-494e-d247-1d2c0cfb7a20"
      },
      "execution_count": 5,
      "outputs": [
        {
          "output_type": "execute_result",
          "data": {
            "text/plain": [
              "{'__header__': b'MATLAB 5.0 MAT-file, Platform: PCWIN64, Created on: Thu Apr 27 17:09:31 2023',\n",
              " '__version__': '1.0',\n",
              " '__globals__': [],\n",
              " 'Dados': array([[(array([[1000]], dtype=uint16), array([[0.13769329, 0.10743371, 0.07470334, ..., 0.14208581, 0.1225635 ,\n",
              "                 0.08739284]]), array([[0.11085011, 0.1259799 , 0.12842019, ..., 0.14208581, 0.1225635 ,\n",
              "                 0.08739284]]), array([[-0.2602568 , -0.24805534, -0.26318514, ..., -0.01708202,\n",
              "                 -0.01220144, -0.01659396]]))                                                                    ]],\n",
              "       dtype=[('SR', 'O'), ('Completo', 'O'), ('Estado1', 'O'), ('Estado2', 'O')])}"
            ]
          },
          "metadata": {},
          "execution_count": 5
        }
      ]
    },
    {
      "cell_type": "code",
      "source": [
        "print(m['__header__'])\n",
        "print(m['__version__'])\n",
        "print(m['__globals__'])\n",
        "print(m['Dados'])\n",
        "\n"
      ],
      "metadata": {
        "colab": {
          "base_uri": "https://localhost:8080/"
        },
        "id": "OmoGJhsM14oW",
        "outputId": "e14c0ee0-2087-4ec8-f64a-c58319ec913f"
      },
      "execution_count": 6,
      "outputs": [
        {
          "output_type": "stream",
          "name": "stdout",
          "text": [
            "b'MATLAB 5.0 MAT-file, Platform: PCWIN64, Created on: Thu Apr 27 17:09:31 2023'\n",
            "1.0\n",
            "[]\n",
            "[[(array([[1000]], dtype=uint16), array([[0.13769329, 0.10743371, 0.07470334, ..., 0.14208581, 0.1225635 ,\n",
            "          0.08739284]]), array([[0.11085011, 0.1259799 , 0.12842019, ..., 0.14208581, 0.1225635 ,\n",
            "          0.08739284]]), array([[-0.2602568 , -0.24805534, -0.26318514, ..., -0.01708202,\n",
            "          -0.01220144, -0.01659396]]))                                                                    ]]\n"
          ]
        }
      ]
    },
    {
      "cell_type": "code",
      "source": [
        "data = m['Dados']['Completo']\n",
        "SR = m['Dados']['SR']\n",
        "dt = 1 / SR\n",
        "print(data, SR, dt)"
      ],
      "metadata": {
        "colab": {
          "base_uri": "https://localhost:8080/"
        },
        "id": "s_jegbTl19D2",
        "outputId": "b165e0dc-d576-456e-81fa-24a806576224"
      },
      "execution_count": 7,
      "outputs": [
        {
          "output_type": "stream",
          "name": "stdout",
          "text": [
            "[[array([[0.13769329, 0.10743371, 0.07470334, ..., 0.14208581, 0.1225635 ,\n",
            "          0.08739284]])                                                   ]] [[array([[1000]], dtype=uint16)]] [[array([[0.001]])]]\n"
          ]
        }
      ]
    },
    {
      "cell_type": "code",
      "source": [
        "time = np.arange(0,len(data)*(1/SR))\n"
      ],
      "metadata": {
        "id": "IVNmUIlx4Rpj"
      },
      "execution_count": 8,
      "outputs": []
    },
    {
      "cell_type": "code",
      "source": [
        "print(time.shape)"
      ],
      "metadata": {
        "colab": {
          "base_uri": "https://localhost:8080/"
        },
        "id": "LYpo48v16BdV",
        "outputId": "26242755-71dd-40f8-d8b3-d08204410d5d"
      },
      "execution_count": 9,
      "outputs": [
        {
          "output_type": "stream",
          "name": "stdout",
          "text": [
            "(1,)\n"
          ]
        }
      ]
    },
    {
      "cell_type": "markdown",
      "source": [
        "Comparing the fractal dimensionality of EEG signals can provide insights into the complexity and underlying patterns within the brain's electrical activity. Fractal dimension analysis is a way to quantify the self-similarity and complexity of a signal. In the context of EEG signals, comparing fractal dimensions can have various applications:\n",
        "\n",
        "**Brain Health and Cognitive States:** Fractal dimension analysis can be used to assess the complexity of EEG signals in different cognitive states, such as wakefulness, sleep, or during specific tasks. Changes in fractal dimension might indicate alterations in brain function or the presence of neurological disorders.\n",
        "\n",
        "**Detecting Abnormalities:** Fractal dimension comparison can help in detecting anomalies or irregularities in EEG signals that might not be evident through traditional analysis methods. Changes in fractal dimension could potentially point to underlying neurological disorders, such as epilepsy or Alzheimer's disease.\n",
        "\n",
        "**Aging and Development:** Comparing the fractal dimension of EEG signals across different age groups can provide insights into how the complexity of brain activity changes as individuals age. This might help in understanding developmental processes or age-related cognitive changes.\n",
        "\n",
        "**Effect of Interventions:** Fractal dimension analysis can be applied to study the impact of interventions, such as medications or therapeutic interventions, on brain activity. Changes in fractal dimension might indicate how these interventions affect the overall complexity and self-organization of brain dynamics.\n",
        "\n",
        "**Neurofeedback and Brain-Computer Interfaces:** Fractal dimension comparisons can play a role in neurofeedback applications, where individuals learn to modulate their brain activity. Fractal dimension could serve as a metric to guide individuals in achieving desired brain states.\n",
        "\n",
        "**Stress and Mental States:** Different mental states, such as stress, meditation, or relaxation, are associated with distinct patterns of brain activity. Fractal dimension analysis could help quantify the differences in complexity between these states.\n",
        "\n",
        "**Detecting Seizures:** Changes in fractal dimension could potentially be used as an early indicator of an impending seizure in individuals with epilepsy. Certain changes in complexity might precede seizure activity.\n",
        "\n",
        "It's important to note that while fractal dimension analysis offers valuable insights, it should be used in conjunction with other methods and domain knowledge.\n",
        "\n",
        "Fractal dimension alone might not provide a definitive diagnosis or interpretation. Moreover, applying fractal dimension analysis to EEG signals requires careful preprocessing, as EEG data is noisy and subject to various artifacts that can affect the results."
      ],
      "metadata": {
        "id": "rgFgPWJMdCvf"
      }
    },
    {
      "cell_type": "markdown",
      "source": [
        "Regarding Neurofeedback and Brain-Computer Interfaces, the Fractal dimension comparisons can play a role in neurofeedback applications, where individuals learn to modulate their brain activity. Fractal dimension could serve as a metric to guide individuals in achieving desired brain states.\n",
        "\n",
        "For example, the concept of calculating left and right intents from wrist movements in the context of neurofeedback and brain-computer interfaces (BCIs) involves extracting relevant brain signals and translating them into actionable commands for controlling external devices. In this case, you're interested in determining the intent to move the wrist to the left or right based on brain signals."
      ],
      "metadata": {
        "id": "evQSeklura2u"
      }
    },
    {
      "cell_type": "markdown",
      "source": [
        "The superficial outline of how a BCI would work might be described in the following steps.\n",
        "\n",
        "**Brain Signal Acquisition:** Use appropriate brain signal acquisition methods, such as electroencephalography (EEG) or other brain imaging techniques, to capture brain activity. EEG, for instance, measures the electrical activity of the brain through electrodes placed on the scalp.\n",
        "\n",
        "**Feature Extraction:** Analyze the acquired brain signals to extract features that correspond to different intentions or mental states. For wrist movement intent, you would focus on brain activity patterns associated with imagining or planning left or right wrist movements.\n",
        "\n",
        "**Signal Processing:** Apply signal processing techniques to preprocess the extracted features. This might involve filtering, artifact removal, and noise reduction to enhance the quality of the features.\n",
        "\n",
        "**Classification:** Train a machine learning model, often a classifier such as a support vector machine (SVM) or deep learning model, using labeled data. The labeled data would consist of brain signals and corresponding left/right wrist movement intentions. The model learns to recognize patterns in the brain signals associated with different intents.\n",
        "\n",
        "**Real-Time Detection: **Once the model is trained, you can use it to detect left or right wrist movement intentions in real time. As the user generates brain signals during imagination, the model predicts the corresponding intent.\n",
        "\n",
        "**Feedback Loop:** Integrate the intent prediction with a neurofeedback system or a BCI. Provide visual, auditory, or tactile feedback to the user based on their detected intention. For instance, if the model predicts a left wrist movement intent, the user might receive a visual cue indicating that their intention was correctly recognized.\n",
        "\n",
        "**Motor Output:** Translate the detected intent into an appropriate command for controlling a wrist movement or external device. For example, a robotic wrist might move left or right based on the detected intent.\n",
        "\n",
        "It's important to note that achieving accurate intent detection and translation requires significant data preprocessing, feature engineering, model training, and potentially calibration for each individual user. The specific algorithms and approaches used would depend on the chosen brain signal modality, the complexity of the task, and the available technology.\n",
        "\n",
        "As for the source of wrist movement intent data, this would typically involve collecting EEG data while participants imagine or plan left and right wrist movements. The data could be collected in controlled experimental settings or clinical environments. Additionally, open datasets related to EEG-based BCIs and motor imagery tasks might be available for research purposes."
      ],
      "metadata": {
        "id": "3aHHqpLKAI4Z"
      }
    },
    {
      "cell_type": "markdown",
      "source": [
        "To apply fractal dimensionality calculation to EEG data for the purpose of analyzing left and right wrist movement intent in the context of neurofeedback and brain-computer interfaces (BCIs), you would need to integrate the fractal dimension analysis into your overall signal processing and intent detection pipeline. In this article, it has been described a method to incorporate fractal dimension calculation as a step in the process:\n",
        "\n",
        "**Data Preprocessing:**\n",
        "Acquire EEG data during left and right wrist movement imagination tasks.\n",
        "Preprocess the EEG data to remove noise, artifacts, and baseline drift. Apply appropriate filtering techniques.\n",
        "\n",
        "**Feature Extraction:**\n",
        "Extract relevant features from the preprocessed EEG signals. These features might include power spectral density, time-frequency representations (spectrograms), and fractal dimensions.\n",
        "\n",
        "**Fractal Dimension Calculation:**\n",
        "Choose a suitable algorithm or method to calculate the fractal dimension from EEG signals. Some common methods include the Hurst exponent (rescaled range analysis), box-counting method, or correlation dimension.\n",
        "Apply the chosen fractal dimension calculation method to the EEG data segments corresponding to left and right wrist movement intentions.\n",
        "\n",
        "**Feature Integration:**\n",
        "Combine the calculated fractal dimensions with other features that capture different aspects of the EEG signals. This might include spectral features, statistical measures, and other relevant metrics.\n",
        "\n",
        "**Classification Model:**\n",
        "Train a classification model using the combined features and labeled data (left vs. right wrist movement intentions).\n",
        "The model could be based on machine learning algorithms such as support vector machines (SVM), random forests, or deep learning architectures.\n",
        "\n",
        "**Real-Time Detection:**\n",
        "Apply the trained classification model to real-time EEG data during wrist movement imagination tasks.\n",
        "Predict the intended wrist movement (left or right) based on the combined features, including fractal dimensions.\n",
        "\n",
        "**Feedback and Control:**\n",
        "Provide neurofeedback to the user based on the predicted intent. This could involve visual cues, auditory feedback, or other sensory modalities.\n",
        "Translate the detected intent into control commands for external devices, such as controlling a virtual or physical wrist movement.\n",
        "\n",
        "**Validation and Calibration:**\n",
        "Validate the accuracy and reliability of the intent detection system through testing with a variety of participants.\n",
        "Perform any necessary calibration to tailor the system to individual users.\n",
        "\n",
        "It's important to note that fractal dimension analysis can be computationally intensive and might require careful parameter tuning. Additionally, the integration of fractal dimensions with other features and the overall performance of the intent detection system would depend on the quality of the EEG data, the chosen analysis methods, and the complexity of the neural patterns associated with wrist movement intentions.\n",
        "\n",
        "This process requires a strong understanding of EEG signal processing, machine learning, and BCI design. Collaborating with experts in these domains is advisable to ensure a successful implementation.\n",
        "\n",
        "\n",
        "\n",
        "\n"
      ],
      "metadata": {
        "id": "BP8dnQaVBGt8"
      }
    },
    {
      "cell_type": "markdown",
      "source": [
        "In the context of a Brain-Computer Interface (BCI) application for analyzing left and right wrist movement intentions, you can consider using the fractal dimension calculation method called the \"Higuchi Fractal Dimension.\" This method is often used to analyze time series data, such as EEG signals, for their fractal characteristics.\n",
        "\n",
        "The Higuchi Fractal Dimension is based on the idea of measuring the complexity or irregularity of a curve by analyzing its self-similarity at different scales. It's relatively simple to compute and doesn't require complex pre-processing. Here's an outline of how you could use the Higuchi Fractal Dimension for your BCI application:\n",
        "\n",
        "**Segmentation:** Divide your EEG data into segments corresponding to left and right wrist movement intentions. These segments should capture the specific mental tasks associated with imagining these movements.\n",
        "\n",
        "**Preprocessing:** Preprocess the EEG segments as needed. This might include filtering to isolate relevant frequency bands or removing artifacts.\n",
        "\n",
        "**Higuchi Fractal Dimension Calculation:**\n",
        "Divide the EEG signal segment into shorter non-overlapping subsegments of varying lengths.\n",
        "For each subsegment, calculate the curve's length by measuring the sum of the absolute differences between the signal values at various time intervals.\n",
        "Average the calculated lengths for all subsegments of a specific length to obtain the Higuchi Fractal Dimension for that length.\n",
        "\n",
        "**Curve Length vs. Log(Scale): **Plot the curve length against the log of the scale (subsegment length). The slope of the linear portion of the log-log plot is the Higuchi Fractal Dimension.\n",
        "\n",
        "**Classification:** Train a classification model (e.g., SVM, deep learning model) using the Higuchi Fractal Dimension values as features for left and right wrist movement intentions.\n",
        "\n",
        "**Real-Time Prediction:** Apply the trained classification model to real-time EEG data to predict the user's intended wrist movement based on the Higuchi Fractal Dimension.\n",
        "\n",
        "**Feedback and Control:** Provide feedback to the user based on the predicted intent and translate it into control commands for the BCI system.\n",
        "\n",
        "It's important to note that while the Higuchi Fractal Dimension is a convenient method for capturing some characteristics of time series data, it might not fully capture the complexity of EEG signals. Additionally, the performance of your BCI system would depend on factors such as the quality of your EEG data, the choice of classification algorithm, and individual variations in brain activity.\n",
        "\n",
        "Remember that BCI applications are complex and often require domain expertise in neuroscience, signal processing, machine learning, and human-computer interaction. Collaborating with experts in these fields is advisable for successful implementation.\n",
        "\n",
        "\n",
        "\n",
        "\n",
        "\n"
      ],
      "metadata": {
        "id": "JV56vguhNdmi"
      }
    },
    {
      "cell_type": "markdown",
      "source": [
        "O próximo passo é responsder a pergunta: como calcular a dimensão fractal de Higuchi do sinal EEG digitalizado?\n",
        "O algoritimo abaixo realiza a operação matemática\n",
        "\n",
        "\n",
        "O cálculo da dimensão fractal de Higuchi de um sinal de EEG envolve um algoritmo específico que mede a complexidade do sinal em diferentes escalas. A dimensão fractal de Higuchi pode fornecer informações valiosas sobre a irregularidade e complexidade do sinal EEG, o que pode ser relevante para estudar a atividade cerebral e diferentes estados de consciência.\n",
        "\n",
        "\n",
        "Para calcular a dimensão fractal Higuchi de um sinal EEG em Python, você pode seguir estas etapas:\n",
        "\n",
        "\n",
        "1. Pré-processamento o sinal EEG (se necessário): Certifique-se de que seus dados EEG estejam devidamente formatados e limpos. Pode ser necessário remover artefatos, filtrar o sinal e segmentá-lo em partes menores se for muito longo.\n",
        "\n",
        "\n",
        "2. Reamostrar o sinal: Para aplicar o algoritmo de dimensão fractal de Higuchi, você precisará reamostrar o sinal para uma frequência de amostragem mais baixa. Isso é feito para reduzir a complexidade computacional e melhorar o desempenho do algoritmo. A nova frequência de amostragem deve ser selecionada com base nas características de seus dados.\n",
        "\n",
        "\n",
        "3. Implemente o algoritmo de dimensão fractal de Higuchi: O algoritmo envolve uma série de etapas que calculam a dimensão fractal do sinal reamostrado. Aqui está uma função Python que pode calcular a dimensão fractal de Higuchi:\n"
      ],
      "metadata": {
        "id": "5F4Q1KJ4gjdT"
      }
    },
    {
      "cell_type": "markdown",
      "source": [
        "A estrutura e o formato de arquivo de armazenamento de dados do sinal EEG são fundamentais para qualquer procedimento de automação. Os padrões de arquivo mais são o EDF, MAT e DAT. Além destes, existem outros padrões para representar digitalmente os dados gerados a partir dos sinais análogicos EEG. Todavia, neste artigo, foram utilizados apenas os arqwuivos de extesão .EDF e .MAT.  "
      ],
      "metadata": {
        "id": "Fei50SmbjOk1"
      }
    },
    {
      "cell_type": "markdown",
      "source": [
        "O eeg_signal no exemplo do algoritimo apresnetado considera um array numpy 1D que contém os dados EEG. A estrutura de eeg_signal seria tipicamente uma sequência de valores de tensão representando o sinal EEG registrado ao longo do tempo.\n",
        "\n",
        "\n",
        "Cada elemento da matriz numpy representaria o valor da tensão em um ponto de tempo específico na gravação do EEG. A taxa de amostragem dos dados de EEG determinaria o intervalo de tempo entre elementos consecutivos da matriz eeg_signal.\n",
        "\n",
        "\n",
        "Em relação ao formato dos dados EEG, eles podem ser armazenados na extensão de arquivo EDF (European Data Format). EDF é um formato de arquivo amplamente usado para armazenar dados biomédicos de séries temporais, incluindo sinais de EEG. Os arquivos EDF podem conter vários canais de dados, onde cada canal corresponde a um local de eletrodo diferente no couro cabeludo.\n",
        "\n",
        "\n",
        "Se seus dados EEG estiverem armazenados em um arquivo EDF, você pode usar bibliotecas como pyedflib para ler os dados em uma matriz numpy. Aqui está um exemplo de como você pode fazer isso:"
      ],
      "metadata": {
        "id": "W08_2TIzkxGV"
      }
    },
    {
      "cell_type": "code",
      "source": [
        "def read_edf_file(file_path):\n",
        "    \"\"\"\n",
        "    Read EEG data from an EDF file.\n",
        "\n",
        "    Parameters:\n",
        "        file_path (str): The path to the EDF file.\n",
        "\n",
        "    Returns:\n",
        "        numpy.array: The EEG data as a 2D numpy array (channels x samples).\n",
        "        list: A list containing channel names.\n",
        "        int: The sampling frequency of the EEG data.\n",
        "    \"\"\"\n",
        "    with pyedflib.EdfReader(file_path) as edf_reader:\n",
        "        num_channels = edf_reader.signals_in_file\n",
        "        channel_names = edf_reader.getSignalLabels()\n",
        "        sampling_frequency = int(edf_reader.getSampleFrequency(0))  # Assuming all channels have the same sampling rate\n",
        "\n",
        "        # Read EEG data into a numpy array (channels x samples)\n",
        "        eeg_data = np.zeros((num_channels, edf_reader.getNSamples()[0]))\n",
        "        for i in range(num_channels):\n",
        "            eeg_data[i, :] = edf_reader.readSignal(i)\n",
        "\n",
        "    return eeg_data, channel_names, sampling_frequency\n",
        "\n",
        "# Usage example:\n",
        "edf_file_path = path + \"S001R01.edf\"\n",
        "eeg_signal, channel_names, sampling_frequency = read_edf_file(edf_file_path)\n",
        "# eeg_signal, channel_names, sampling_frequency"
      ],
      "metadata": {
        "id": "Pqg6hH4ZiP1k"
      },
      "execution_count": null,
      "outputs": []
    },
    {
      "cell_type": "markdown",
      "source": [
        "O eeg_signal será um array numpy 2D com forma (num_channels, num_samples), onde num_channels representa o número de canais EEG (eletrodos) e num_samples representa o número total de amostras na gravação. Cada linha da matriz eeg_signal corresponde aos dados de um canal EEG específico e as colunas representam os valores do sinal EEG ao longo do tempo.\n",
        "\n",
        "\n",
        "No caso em que os dados de EEG apresentem-se num formato diferente, ou de estrutura desconhecida, pode ser necessário adaptar o processo de leitura de acordo. A biblioteca ou método específico para ler os dados pode variar dependendo do formato e dos detalhes específicos do sistema de aquisição de dados usado para registrar os sinais EEG."
      ],
      "metadata": {
        "id": "Aff-81fgmFLs"
      }
    },
    {
      "cell_type": "code",
      "source": [
        "def higuchi_fd(signal, k_max):\n",
        "    \"\"\"\n",
        "    Calculate the Higuchi fractal dimension of a 1D signal.\n",
        "\n",
        "    Parameters:\n",
        "        signal (numpy.array): The 1D signal to analyze.\n",
        "        k_max (int): The maximum value of k (number of subdivisions).\n",
        "\n",
        "    Returns:\n",
        "        float: The Higuchi fractal dimension of the signal.\n",
        "    \"\"\"\n",
        "    N = len(signal)\n",
        "    L = np.arange(1, k_max + 1)\n",
        "    L_mean = np.zeros(len(L))\n",
        "\n",
        "    for i in range(len(L)):\n",
        "        L_mean[i] = np.sum(np.abs(np.diff(signal[np.arange(i, N, L[i])]))) / (N // L[i])\n",
        "\n",
        "    return np.log(L_mean.mean()) / np.log(1.0 / L.mean())\n"
      ],
      "metadata": {
        "id": "v42sKHKzhQLk"
      },
      "execution_count": null,
      "outputs": []
    },
    {
      "cell_type": "markdown",
      "source": [
        "Ao aplicar a função jiguchi_fd() ao sinal EEG, a carga do sinal EEG numa matriz numpy e a chamada da função higuchi_fd com o valor k_max desejado. O parâmetro k_max controla o número de subdivisões do sinal e você pode precisar experimentar diferentes valores para encontrar o mais apropriado para seus dados.\n",
        "Aqui está um exemplo de como você pode usar a função:"
      ],
      "metadata": {
        "id": "GYe_QxNnhuaC"
      }
    },
    {
      "cell_type": "code",
      "source": [
        "print(type(eeg_signal))\n",
        "print(eeg_signal.shape)"
      ],
      "metadata": {
        "colab": {
          "base_uri": "https://localhost:8080/"
        },
        "id": "zcIKD2yARZVj",
        "outputId": "5918e73a-6b46-48c7-9dca-9680f0128730"
      },
      "execution_count": null,
      "outputs": [
        {
          "output_type": "stream",
          "name": "stdout",
          "text": [
            "<class 'numpy.ndarray'>\n",
            "(64, 9760)\n"
          ]
        }
      ]
    },
    {
      "cell_type": "code",
      "source": [
        "# Assuming your EEG signal is loaded into the variable 'eeg_signal'\n",
        "# eeg_signal = ...\n",
        "\n",
        "# Resample the signal (change the resampling_factor as needed)\n",
        "resampling_factor = 2\n",
        "resampled_signal = eeg_signal[::resampling_factor]\n",
        "\n",
        "# Calculate the Higuchi fractal dimension\n",
        "k_max = 10  # You can experiment with different values for k_max\n",
        "fractal_dimension = higuchi_fd(resampled_signal, k_max)\n",
        "print(\"Higuchi Fractal Dimension:\", fractal_dimension)\n"
      ],
      "metadata": {
        "colab": {
          "base_uri": "https://localhost:8080/"
        },
        "id": "5nmXr75gh8xN",
        "outputId": "f85e0429-0ebb-4e9f-d5c9-b6aaa1b388e6"
      },
      "execution_count": null,
      "outputs": [
        {
          "output_type": "stream",
          "name": "stdout",
          "text": [
            "Higuchi Fractal Dimension: -6.924049373586885\n"
          ]
        }
      ]
    },
    {
      "cell_type": "markdown",
      "source": [
        "Observe que a dimensão fractal de Higuchi é um valor único que caracteriza a complexidade de todo o sinal. Para analisar diferentes segmentos do sinal EEG separadamente, pode-se dividi-lo em partes e calcular a dimensão fractal de cada segmento. Isso pode fornecer mais informações sobre como a complexidade muda com o tempo.\n",
        "\n",
        "Para respodner a pergunta, qual a dimensao fractal de Higuchi em cada nitervalo de tempo da amostra, temos o seguinte algoritimo\n",
        "\n"
      ],
      "metadata": {
        "id": "UouwGoUeiG5d"
      }
    },
    {
      "cell_type": "markdown",
      "source": [
        "What is the fractal dimension of an EEG?\n",
        "\n",
        "A simple straight line will have a fractal dimension of 1 (taking up minimum space), while the more complex an EEG signal is, the more it will fill space and the more it will have a fractal dimension closer to 2 than 1.\n",
        "\n",
        "\n",
        "What is the fractal pattern in the brain?\n",
        "Fractal Foundation Online Course - Chapter 1 - FRACTALS IN NATURE\n",
        "\n",
        "It is the fractal branching pattern of the neuron's axons and dendrites that allows them to communicate with so many other cells. If neurons were shaped like cubes and neatly packed into the brain, one neuron could only connect with at most 6 other cells. Hippocampal neurons.\n",
        "\n",
        "\n",
        "Consenquently, would the more dimensions a fractal shape of a brain region or a neuron and dentrites have, there more will be their potential of connectivity of that area or its neurons and dentrites to communicate with other regions, neurons and dentrites?"
      ],
      "metadata": {
        "id": "GOhhJe5zHMhV"
      }
    },
    {
      "cell_type": "markdown",
      "source": [
        "## Calculating my own Fractal ##"
      ],
      "metadata": {
        "id": "SHObJ-anvKSr"
      }
    },
    {
      "cell_type": "code",
      "source": [
        "import numpy as np\n",
        "import matplotlib.pyplot as plt\n",
        "\n",
        "def mandelbrot(c, max_iter):\n",
        "    z = 0\n",
        "    n = 0\n",
        "    while abs(z) <= 2 and n < max_iter:\n",
        "        z = z*z + c\n",
        "        n += 1\n",
        "    return n\n",
        "\n",
        "# Define the complex plane range\n",
        "xmin, xmax = -2.5, 1.5\n",
        "ymin, ymax = -2, 2\n",
        "\n",
        "# Create a grid of complex numbers\n",
        "width, height = 800, 800\n",
        "x = np.linspace(xmin, xmax, width)\n",
        "y = np.linspace(ymin, ymax, height)\n",
        "X, Y = np.meshgrid(x, y)\n",
        "c = X + 1j * Y\n",
        "\n",
        "# Calculate the Mandelbrot Set\n",
        "max_iter = 1000\n",
        "mandelbrot_set = np.zeros_like(c, dtype=int)\n",
        "for i in range(width):\n",
        "    for j in range(height):\n",
        "        mandelbrot_set[j, i] = mandelbrot(c[j, i], max_iter)\n",
        "\n",
        "\n",
        "\n",
        "\n",
        "\n"
      ],
      "metadata": {
        "id": "EoQYzGCdvDC0"
      },
      "execution_count": 10,
      "outputs": []
    },
    {
      "cell_type": "code",
      "source": [
        "print(mandelbrot_set.shape)\n"
      ],
      "metadata": {
        "colab": {
          "base_uri": "https://localhost:8080/"
        },
        "id": "xT6NzTBhTgR9",
        "outputId": "b893d2f8-06b0-4171-81e1-c3377631d632"
      },
      "execution_count": 11,
      "outputs": [
        {
          "output_type": "stream",
          "name": "stdout",
          "text": [
            "(800, 800)\n"
          ]
        }
      ]
    },
    {
      "cell_type": "code",
      "source": [
        "# Plot the Mandelbrot Set\n",
        "plt.imshow(mandelbrot_set, extent=(xmin, xmax, ymin, ymax), cmap='inferno', aspect='auto')\n",
        "plt.colorbar()\n",
        "plt.xlabel('Re')\n",
        "plt.ylabel('Im')\n",
        "plt.title('Mandelbrot Set')\n",
        "plt.show()"
      ],
      "metadata": {
        "id": "WCHzuhUVTV9d",
        "colab": {
          "base_uri": "https://localhost:8080/",
          "height": 472
        },
        "outputId": "aade7e1a-cf4b-4cd0-a737-ab5320de27fb"
      },
      "execution_count": 12,
      "outputs": [
        {
          "output_type": "display_data",
          "data": {
            "text/plain": [
              "<Figure size 640x480 with 2 Axes>"
            ],
            "image/png": "[encoded data removed]"
          },
          "metadata": {}
        }
      ]
    },
    {
      "cell_type": "markdown",
      "source": [
        "## **Referencias**\n",
        "\n",
        "1. Tame N. J. Kawe, Shabah M. Shadli & Neil McNaughton, Higuchi’s fractal dimension, but not frontal or posterior alpha asymmetry, predicts PID-5 anxiousness more than depressivity, Scientific Reports volume 9, Article number: 19666 (2019), https://www.nature.com/articles/s41598-019-56229-w#:~:text=A%20simple%20straight%20line%20will,closer%20to%202%20than%201.\n",
        "\n",
        "2. Turker Tuncer a, Sengul Dogan a, Abdulhamit Subasi, A new fractal pattern feature generation function based emotion recognition method using EEG, Chaos, Solitons & Fractals, Volume 144, March 2021, 110671, https://doi.org/10.1016/j.chaos.2021.110671\n",
        "\n",
        "3. Repositorios GIT, https://github.com/topics/fractal-dimension?l=python\n",
        "https://github.com/inuritdino/HiguchiFractalDimension\n",
        "\n",
        "\n",
        "4. https://www.google.com/url?sa=i&url=https%3A%2F%2Ffractalfoundation.org%2FOFC%2FOFC-1-6.html&psig=AOvVaw1HCUpc1TQLltDjVkjPlCJk&ust=1693764933478000&source=images&cd=vfe&opi=89978449&ved=0CBAQjRxqFwoTCJj2rKbKjIEDFQAAAAAdAAAAABAE"
      ],
      "metadata": {
        "id": "eL3cgIF-19dc"
      }
    },
    {
      "cell_type": "code",
      "source": [],
      "metadata": {
        "id": "sSqekDdXPL3-"
      },
      "execution_count": null,
      "outputs": []
    }
  ]
}